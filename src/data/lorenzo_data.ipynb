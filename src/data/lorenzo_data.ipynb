{
 "cells": [
  {
   "cell_type": "code",
   "execution_count": 1,
   "metadata": {},
   "outputs": [],
   "source": [
    "import h5py"
   ]
  },
  {
   "cell_type": "code",
   "execution_count": 2,
   "metadata": {},
   "outputs": [
    {
     "name": "stdout",
     "output_type": "stream",
     "text": [
      "['data']\n",
      "Shape: (1073741824, 10)\n"
     ]
    }
   ],
   "source": [
    "file = h5py.File('/export/scratch/isulzer/data_lorenzo/dataset_LHS.h5', 'r')\n",
    "print(list(file.keys()))\n",
    "data = file['data']\n",
    "print(\"Shape:\", data.shape)"
   ]
  },
  {
   "cell_type": "code",
   "execution_count": null,
   "metadata": {},
   "outputs": [],
   "source": [
    "n_ic = 256\n",
    "n_density = 64\n",
    "n_temp = 64\n",
    "n_time = 16 # nicht 17!\n",
    "n_species = 10\n",
    "n_rad = 64\n",
    "new_path = '/export/scratch/isulzer/data_lorenzo/dataset_reshaped.h5'\n",
    "with h5py.File(new_path, 'w') as file:\n",
    "    data_new = file.create_dataset('data_new', (int(n_ic*n_density*n_temp*n_rad), n_time, n_species), dtype='f')\n",
    "    for i in range(10):\n",
    "        data_new[:,:,i] = data[:,i].reshape((int(n_ic*n_density*n_temp*n_rad), n_time))\n",
    "        print(\"success\")"
   ]
  },
  {
   "cell_type": "code",
   "execution_count": 10,
   "metadata": {},
   "outputs": [
    {
     "name": "stdout",
     "output_type": "stream",
     "text": [
      "Shape: (67108864, 16, 10)\n"
     ]
    }
   ],
   "source": [
    "file =  h5py.File(new_path, 'r')\n",
    "data_new = file['data_new']\n",
    "print(\"Shape:\", data_new.shape)"
   ]
  },
  {
   "cell_type": "code",
   "execution_count": null,
   "metadata": {},
   "outputs": [],
   "source": []
  }
 ],
 "metadata": {
  "kernelspec": {
   "display_name": ".venv",
   "language": "python",
   "name": "python3"
  },
  "language_info": {
   "codemirror_mode": {
    "name": "ipython",
    "version": 3
   },
   "file_extension": ".py",
   "mimetype": "text/x-python",
   "name": "python",
   "nbconvert_exporter": "python",
   "pygments_lexer": "ipython3",
   "version": "3.8.10"
  }
 },
 "nbformat": 4,
 "nbformat_minor": 2
}
